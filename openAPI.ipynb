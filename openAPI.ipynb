{
  "nbformat": 4,
  "nbformat_minor": 0,
  "metadata": {
    "colab": {
      "provenance": [],
      "authorship_tag": "ABX9TyOFC4NnZfpLoJwECSUau1PQ",
      "include_colab_link": true
    },
    "kernelspec": {
      "name": "python3",
      "display_name": "Python 3"
    },
    "language_info": {
      "name": "python"
    }
  },
  "cells": [
    {
      "cell_type": "markdown",
      "metadata": {
        "id": "view-in-github",
        "colab_type": "text"
      },
      "source": [
        "<a href=\"https://colab.research.google.com/github/SBJeong91/Data-Analysis-with-Open-Source/blob/main/openAPI.ipynb\" target=\"_parent\"><img src=\"https://colab.research.google.com/assets/colab-badge.svg\" alt=\"Open In Colab\"/></a>"
      ]
    },
    {
      "cell_type": "code",
      "execution_count": 1,
      "metadata": {
        "colab": {
          "base_uri": "https://localhost:8080/",
          "height": 109
        },
        "id": "UdrwxW4uX_Xs",
        "outputId": "47af5739-65cc-402f-e137-40feea57e60e"
      },
      "outputs": [
        {
          "output_type": "error",
          "ename": "SyntaxError",
          "evalue": "unterminated string literal (detected at line 5) (ipython-input-1892002477.py, line 5)",
          "traceback": [
            "\u001b[0;36m  File \u001b[0;32m\"/tmp/ipython-input-1892002477.py\"\u001b[0;36m, line \u001b[0;32m5\u001b[0m\n\u001b[0;31m    \"\u001b[0m\n\u001b[0m    ^\u001b[0m\n\u001b[0;31mSyntaxError\u001b[0m\u001b[0;31m:\u001b[0m unterminated string literal (detected at line 5)\n"
          ]
        }
      ],
      "source": [
        "import requests\n",
        "\n",
        "url = 'http://openapi.seoul.go.kr:8088/sample/xml/CardSubwayStatsNew/1/5/20220301'\n",
        "api_key = \"7a4c6f74646f6a3138324d42526259\"\n",
        "\"\n",
        "\n",
        "params = {\n",
        "    'serviceKey': api_key,\n",
        "    'returnType': 'json',\n",
        "    'numOfRows': '100',\n",
        "    'pageNo': '1',\n",
        "    'sidoName': '서울',\n",
        "    'ver': '1.0'\n",
        "}\n",
        "\n",
        "response = requests.get(url, params=params)\n",
        "\n",
        "if response.status_code == 200:\n",
        "  print(\"api 호출 성공\")\n",
        "  print(response.json())\n",
        "else:\n",
        "  print(f\"API 호출 실패: {response.status_code}\")"
      ]
    }
  ]
}